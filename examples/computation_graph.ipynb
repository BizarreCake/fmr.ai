{
 "cells": [
  {
   "cell_type": "code",
   "execution_count": null,
   "id": "initial_id",
   "metadata": {
    "collapsed": true
   },
   "outputs": [],
   "source": [
    "import fmrai\n",
    "import torch"
   ]
  },
  {
   "cell_type": "markdown",
   "source": [
    "# Load model"
   ],
   "metadata": {
    "collapsed": false
   },
   "id": "80a31df58f507e2c"
  },
  {
   "cell_type": "code",
   "execution_count": null,
   "outputs": [],
   "source": [
    "from transformers import AutoModel, AutoTokenizer\n",
    "\n",
    "# BERT:\n",
    "model = AutoModel.from_pretrained('bert-base-uncased')\n",
    "tokenizer = AutoTokenizer.from_pretrained('bert-base-uncased')\n",
    "\n",
    "# # GPT:\n",
    "# model = AutoModel.from_pretrained('openai-gpt')\n",
    "# tokenizer = AutoTokenizer.from_pretrained('openai-gpt')\n",
    "# tokenizer.pad_token = ' '\n",
    "\n",
    "# # Llama 2:\n",
    "# from transformers import AutoModelForCausalLM\n",
    "# model = AutoModelForCausalLM.from_pretrained('meta-llama/Llama-2-7b-hf', load_in_4bit=True)\n",
    "# tokenizer = AutoTokenizer.from_pretrained('meta-llama/Llama-2-7b-hf')\n",
    "# tokenizer.pad_token = tokenizer.eos_token"
   ],
   "metadata": {
    "collapsed": false
   },
   "id": "16551b7ce759b3cd"
  },
  {
   "cell_type": "markdown",
   "source": [
    "# Generate computation graph"
   ],
   "metadata": {
    "collapsed": false
   },
   "id": "58fd71bae8ed3109"
  },
  {
   "cell_type": "code",
   "execution_count": null,
   "outputs": [],
   "source": [
    "from fmrai.instrument import instrument_model\n",
    "from fmrai.fmrai import Fmrai\n",
    "\n",
    "with fmrai.fmrai() as fmr:\n",
    "    m = instrument_model(model)\n",
    "\n",
    "    fmr: Fmrai\n",
    "    with fmr.track() as tracker:\n",
    "        with torch.no_grad():\n",
    "            m(**tokenizer(\"Hello World\", return_tensors=\"pt\"))\n",
    "            g = tracker.build_graph()\n",
    "\n",
    "    g.save_dot('graph.dot')"
   ],
   "metadata": {
    "collapsed": false
   },
   "id": "74f72847b3fee1cd"
  },
  {
   "cell_type": "code",
   "execution_count": null,
   "outputs": [],
   "source": [
    "# run this command to convert the graph to svg using the dot command line tool\n",
    "!dot -Tsvg graph.dot > graph.svg"
   ],
   "metadata": {
    "collapsed": false
   },
   "id": "6c7a9464764bb4ac"
  }
 ],
 "metadata": {
  "kernelspec": {
   "display_name": "Python 3",
   "language": "python",
   "name": "python3"
  },
  "language_info": {
   "codemirror_mode": {
    "name": "ipython",
    "version": 2
   },
   "file_extension": ".py",
   "mimetype": "text/x-python",
   "name": "python",
   "nbconvert_exporter": "python",
   "pygments_lexer": "ipython2",
   "version": "2.7.6"
  }
 },
 "nbformat": 4,
 "nbformat_minor": 5
}
