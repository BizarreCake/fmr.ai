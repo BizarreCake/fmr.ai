{
 "cells": [
  {
   "cell_type": "code",
   "execution_count": null,
   "id": "initial_id",
   "metadata": {
    "collapsed": true
   },
   "outputs": [],
   "source": [
    "import fmrai\n",
    "from tqdm import tqdm\n",
    "import torch"
   ]
  },
  {
   "cell_type": "markdown",
   "source": [
    "## Load model & tokenizer"
   ],
   "metadata": {
    "collapsed": false
   },
   "id": "dfa75be53a6471b3"
  },
  {
   "cell_type": "code",
   "execution_count": null,
   "outputs": [],
   "source": [
    "from transformers import AutoModel, AutoTokenizer\n",
    "\n",
    "# BERT:\n",
    "model = AutoModel.from_pretrained('bert-base-uncased').cuda()\n",
    "tokenizer = AutoTokenizer.from_pretrained('bert-base-uncased')\n",
    "\n",
    "# # GPT:\n",
    "# model = AutoModel.from_pretrained('openai-gpt').cuda()\n",
    "# tokenizer = AutoTokenizer.from_pretrained('openai-gpt')\n",
    "# tokenizer.pad_token = ' '\n",
    "\n",
    "# # Llama 2:\n",
    "# from transformers import AutoModelForCausalLM\n",
    "# model = AutoModelForCausalLM.from_pretrained('meta-llama/Llama-2-7b-hf', load_in_4bit=True)\n",
    "# tokenizer = AutoTokenizer.from_pretrained('meta-llama/Llama-2-7b-hf')\n",
    "# tokenizer.pad_token = tokenizer.eos_token"
   ],
   "metadata": {
    "collapsed": false
   },
   "id": "5797668451443879"
  },
  {
   "cell_type": "markdown",
   "source": [
    "## Prepare dataset"
   ],
   "metadata": {
    "collapsed": false
   },
   "id": "b18ffb9a8d551f19"
  },
  {
   "cell_type": "code",
   "execution_count": null,
   "outputs": [],
   "source": [
    "from transformers import DataCollatorWithPadding\n",
    "from torch.utils.data import DataLoader\n",
    "from datasets import load_dataset\n",
    "\n",
    "dataset = load_dataset('bookcorpus', streaming=True)\n",
    "\n",
    "batch_size = 4\n",
    "small_dataset = dataset['train'].take(256)\n",
    "small_dataset_tokenized = small_dataset.map(\n",
    "    lambda x: tokenizer(x['text'], padding='longest', return_tensors='pt'),\n",
    "    batched=True,\n",
    "    batch_size=batch_size\n",
    ").remove_columns(['text'])\n",
    "\n",
    "collator = DataCollatorWithPadding(tokenizer, padding='longest', return_tensors='pt')\n",
    "loader = DataLoader(small_dataset_tokenized, batch_size=batch_size, collate_fn=collator)"
   ],
   "metadata": {
    "collapsed": false
   },
   "id": "87be11ff960b8cc6"
  },
  {
   "cell_type": "markdown",
   "source": [
    "# Analyze and plot!"
   ],
   "metadata": {
    "collapsed": false
   },
   "id": "b805b5902ca14b65"
  },
  {
   "cell_type": "code",
   "execution_count": null,
   "outputs": [],
   "source": [
    "from fmrai.instrument import instrument_model\n",
    "from fmrai.analysis.attention import AttentionHeadClusterAnalyzer\n",
    "\n",
    "with fmrai.fmrai():\n",
    "    with torch.no_grad():\n",
    "        m = instrument_model(model)\n",
    "\n",
    "        # skip first batch, because it includes the creation of parameters in the computation graph\n",
    "        # without this, the computation graph will be different in the first iteration.\n",
    "        first_batch = next(iter(loader))\n",
    "        m(**first_batch.to(model.device))\n",
    "\n",
    "        analyzer = AttentionHeadClusterAnalyzer()\n",
    "        for batch in tqdm(loader):\n",
    "            with analyzer.track_batch():\n",
    "                m(**batch.to(model.device))\n",
    "\n",
    "        analyzer.analyze().plot(figsize=(16, 16))\n",
    "        del analyzer"
   ],
   "metadata": {
    "collapsed": false
   },
   "id": "d44ceef439661a"
  }
 ],
 "metadata": {
  "kernelspec": {
   "display_name": "Python 3",
   "language": "python",
   "name": "python3"
  },
  "language_info": {
   "codemirror_mode": {
    "name": "ipython",
    "version": 2
   },
   "file_extension": ".py",
   "mimetype": "text/x-python",
   "name": "python",
   "nbconvert_exporter": "python",
   "pygments_lexer": "ipython2",
   "version": "2.7.6"
  }
 },
 "nbformat": 4,
 "nbformat_minor": 5
}
