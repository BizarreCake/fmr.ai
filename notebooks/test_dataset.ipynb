{
 "cells": [
  {
   "cell_type": "code",
   "execution_count": 1,
   "id": "initial_id",
   "metadata": {
    "collapsed": true,
    "ExecuteTime": {
     "end_time": "2023-09-19T17:20:45.264726456Z",
     "start_time": "2023-09-19T17:20:44.785220951Z"
    }
   },
   "outputs": [],
   "source": [
    "from datasets import load_dataset, Dataset"
   ]
  },
  {
   "cell_type": "code",
   "execution_count": 8,
   "outputs": [],
   "source": [
    "ds = load_dataset('glue', 'sst2', split='validation')"
   ],
   "metadata": {
    "collapsed": false,
    "ExecuteTime": {
     "end_time": "2023-09-19T17:21:33.945737069Z",
     "start_time": "2023-09-19T17:21:32.124760603Z"
    }
   },
   "id": "4e5a26af881cd575"
  },
  {
   "cell_type": "code",
   "execution_count": 11,
   "outputs": [],
   "source": [
    "chunk = ds[:5]['sentence']"
   ],
   "metadata": {
    "collapsed": false,
    "ExecuteTime": {
     "end_time": "2023-09-19T17:22:05.344717070Z",
     "start_time": "2023-09-19T17:22:05.301046424Z"
    }
   },
   "id": "e8308c62c7e937c6"
  },
  {
   "cell_type": "code",
   "execution_count": 12,
   "outputs": [
    {
     "data": {
      "text/plain": "[\"it 's a charming and often affecting journey . \",\n 'unflinchingly bleak and desperate ',\n 'allows us to hope that nolan is poised to embark a major career as a commercial yet inventive filmmaker . ',\n \"the acting , costumes , music , cinematography and sound are all astounding given the production 's austere locales . \",\n \"it 's slow -- very , very slow . \"]"
     },
     "execution_count": 12,
     "metadata": {},
     "output_type": "execute_result"
    }
   ],
   "source": [
    "chunk"
   ],
   "metadata": {
    "collapsed": false,
    "ExecuteTime": {
     "end_time": "2023-09-19T17:22:07.489520199Z",
     "start_time": "2023-09-19T17:22:07.485045757Z"
    }
   },
   "id": "1dfdd299164b262f"
  },
  {
   "cell_type": "code",
   "execution_count": 14,
   "outputs": [
    {
     "data": {
      "text/plain": "Dataset({\n    features: ['sentence', 'label', 'idx'],\n    num_rows: 5\n})"
     },
     "execution_count": 14,
     "metadata": {},
     "output_type": "execute_result"
    }
   ],
   "source": [
    "ds.select(range(5))"
   ],
   "metadata": {
    "collapsed": false,
    "ExecuteTime": {
     "end_time": "2023-09-19T17:22:39.786775898Z",
     "start_time": "2023-09-19T17:22:39.781758419Z"
    }
   },
   "id": "d8ccebc5e52605f0"
  },
  {
   "cell_type": "code",
   "execution_count": null,
   "outputs": [],
   "source": [],
   "metadata": {
    "collapsed": false
   },
   "id": "7587c44f0f97f70e"
  }
 ],
 "metadata": {
  "kernelspec": {
   "display_name": "Python 3",
   "language": "python",
   "name": "python3"
  },
  "language_info": {
   "codemirror_mode": {
    "name": "ipython",
    "version": 2
   },
   "file_extension": ".py",
   "mimetype": "text/x-python",
   "name": "python",
   "nbconvert_exporter": "python",
   "pygments_lexer": "ipython2",
   "version": "2.7.6"
  }
 },
 "nbformat": 4,
 "nbformat_minor": 5
}
