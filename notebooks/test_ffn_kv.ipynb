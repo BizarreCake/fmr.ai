{
 "cells": [
  {
   "cell_type": "code",
   "execution_count": 1,
   "id": "initial_id",
   "metadata": {
    "collapsed": true,
    "ExecuteTime": {
     "end_time": "2023-10-06T09:02:58.810956157Z",
     "start_time": "2023-10-06T09:02:57.588451415Z"
    }
   },
   "outputs": [],
   "source": [
    "import fmrai"
   ]
  },
  {
   "cell_type": "markdown",
   "source": [
    "# Load dataset"
   ],
   "metadata": {
    "collapsed": false
   },
   "id": "8d8f3ae46562c62f"
  },
  {
   "cell_type": "code",
   "execution_count": 2,
   "outputs": [],
   "source": [
    "from datasets import load_dataset\n",
    "\n",
    "dataset = load_dataset('bookcorpus', streaming=True)"
   ],
   "metadata": {
    "collapsed": false,
    "ExecuteTime": {
     "end_time": "2023-10-06T09:04:25.744453885Z",
     "start_time": "2023-10-06T09:04:23.785669528Z"
    }
   },
   "id": "9546b3974392c728"
  },
  {
   "cell_type": "code",
   "execution_count": 5,
   "outputs": [
    {
     "data": {
      "text/plain": "{'text': 'usually , he would be tearing around the living room , playing with his toys .'}"
     },
     "execution_count": 5,
     "metadata": {},
     "output_type": "execute_result"
    }
   ],
   "source": [
    "next(iter(dataset['train']))"
   ],
   "metadata": {
    "collapsed": false,
    "ExecuteTime": {
     "end_time": "2023-10-06T09:04:35.334530103Z",
     "start_time": "2023-10-06T09:04:32.541503980Z"
    }
   },
   "id": "d61af3bfba0fa332"
  },
  {
   "cell_type": "markdown",
   "source": [
    "# Create model"
   ],
   "metadata": {
    "collapsed": false
   },
   "id": "2a6c7d02a84eea4f"
  },
  {
   "cell_type": "code",
   "execution_count": 8,
   "outputs": [],
   "source": [
    "from transformers import AutoModel, AutoTokenizer\n",
    "model = AutoModel.from_pretrained('bert-base-uncased')\n",
    "tokenizer = AutoTokenizer.from_pretrained('bert-base-uncased')"
   ],
   "metadata": {
    "collapsed": false,
    "ExecuteTime": {
     "end_time": "2023-10-06T09:15:29.956261897Z",
     "start_time": "2023-10-06T09:15:28.676674288Z"
    }
   },
   "id": "8c2e4860e32f1335"
  },
  {
   "cell_type": "code",
   "execution_count": 100,
   "outputs": [
    {
     "ename": "AssertionError",
     "evalue": "",
     "output_type": "error",
     "traceback": [
      "\u001B[0;31m---------------------------------------------------------------------------\u001B[0m",
      "\u001B[0;31mAssertionError\u001B[0m                            Traceback (most recent call last)",
      "Cell \u001B[0;32mIn[100], line 18\u001B[0m\n\u001B[1;32m     16\u001B[0m \u001B[38;5;28;01mwith\u001B[39;00m f\u001B[38;5;241m.\u001B[39mtrack() \u001B[38;5;28;01mas\u001B[39;00m tracker:\n\u001B[1;32m     17\u001B[0m     result \u001B[38;5;241m=\u001B[39m m(\u001B[38;5;241m*\u001B[39m\u001B[38;5;241m*\u001B[39mtokenizer(\u001B[38;5;124m'\u001B[39m\u001B[38;5;124mhello\u001B[39m\u001B[38;5;124m'\u001B[39m, return_tensors\u001B[38;5;241m=\u001B[39m\u001B[38;5;124m'\u001B[39m\u001B[38;5;124mpt\u001B[39m\u001B[38;5;124m'\u001B[39m))\n\u001B[0;32m---> 18\u001B[0m     g \u001B[38;5;241m=\u001B[39m \u001B[43mtracker\u001B[49m\u001B[38;5;241;43m.\u001B[39;49m\u001B[43mbuild_graph\u001B[49m\u001B[43m(\u001B[49m\u001B[43mresult\u001B[49m\u001B[38;5;241;43m.\u001B[39;49m\u001B[43mpooler_output\u001B[49m\u001B[43m)\u001B[49m\n\u001B[1;32m     20\u001B[0m \u001B[38;5;28mprint\u001B[39m(g)\n",
      "File \u001B[0;32m~/Projects/fmrai/fmrai/tracker.py:291\u001B[0m, in \u001B[0;36mSingleComputationTracker.build_graph\u001B[0;34m(self, output)\u001B[0m\n\u001B[1;32m    288\u001B[0m     \u001B[38;5;28;01mcontinue\u001B[39;00m\n\u001B[1;32m    290\u001B[0m \u001B[38;5;28;01mif\u001B[39;00m item\u001B[38;5;241m.\u001B[39mtype \u001B[38;5;241m==\u001B[39m WorkItemType\u001B[38;5;241m.\u001B[39mTENSOR:\n\u001B[0;32m--> 291\u001B[0m     node \u001B[38;5;241m=\u001B[39m \u001B[43mvisit_tensor\u001B[49m\u001B[43m(\u001B[49m\u001B[43mitem\u001B[49m\u001B[38;5;241;43m.\u001B[39;49m\u001B[43mvalue\u001B[49m\u001B[43m,\u001B[49m\u001B[43m \u001B[49m\u001B[38;5;241;43m*\u001B[39;49m\u001B[38;5;241;43m*\u001B[39;49m\u001B[43m(\u001B[49m\u001B[43mitem\u001B[49m\u001B[38;5;241;43m.\u001B[39;49m\u001B[43mkwargs\u001B[49m\u001B[43m \u001B[49m\u001B[38;5;129;43;01mor\u001B[39;49;00m\u001B[43m \u001B[49m\u001B[43m{\u001B[49m\u001B[43m}\u001B[49m\u001B[43m)\u001B[49m\u001B[43m)\u001B[49m\n\u001B[1;32m    292\u001B[0m \u001B[38;5;28;01melif\u001B[39;00m item\u001B[38;5;241m.\u001B[39mtype \u001B[38;5;241m==\u001B[39m WorkItemType\u001B[38;5;241m.\u001B[39mGRAD_FN:\n\u001B[1;32m    293\u001B[0m     node \u001B[38;5;241m=\u001B[39m visit_grad_fn(item\u001B[38;5;241m.\u001B[39mvalue, \u001B[38;5;241m*\u001B[39m\u001B[38;5;241m*\u001B[39m(item\u001B[38;5;241m.\u001B[39mkwargs \u001B[38;5;129;01mor\u001B[39;00m {}))\n",
      "File \u001B[0;32m~/Projects/fmrai/fmrai/tracker.py:240\u001B[0m, in \u001B[0;36mSingleComputationTracker.build_graph.<locals>.visit_tensor\u001B[0;34m(t, tensor_id)\u001B[0m\n\u001B[1;32m    235\u001B[0m \u001B[38;5;28;01mdef\u001B[39;00m \u001B[38;5;21mvisit_tensor\u001B[39m(\n\u001B[1;32m    236\u001B[0m         t: Union[TensorProxy, nn\u001B[38;5;241m.\u001B[39mParameter],\n\u001B[1;32m    237\u001B[0m         \u001B[38;5;241m*\u001B[39m,\n\u001B[1;32m    238\u001B[0m         tensor_id: Optional[TensorId] \u001B[38;5;241m=\u001B[39m \u001B[38;5;28;01mNone\u001B[39;00m\n\u001B[1;32m    239\u001B[0m ):\n\u001B[0;32m--> 240\u001B[0m     \u001B[38;5;28;01massert\u001B[39;00m \u001B[38;5;28mtype\u001B[39m(t) \u001B[38;5;129;01min\u001B[39;00m (TensorProxy, nn\u001B[38;5;241m.\u001B[39mParameter)\n\u001B[1;32m    241\u001B[0m     \u001B[38;5;28;01massert\u001B[39;00m t \u001B[38;5;129;01mis\u001B[39;00m \u001B[38;5;129;01mnot\u001B[39;00m \u001B[38;5;28;01mNone\u001B[39;00m\n\u001B[1;32m    243\u001B[0m     u \u001B[38;5;241m=\u001B[39m unwrap_proxy(t)\n",
      "\u001B[0;31mAssertionError\u001B[0m: "
     ]
    }
   ],
   "source": [
    "import importlib\n",
    "\n",
    "import fmrai.instrument\n",
    "importlib.reload(fmrai.instrument)\n",
    "from fmrai.instrument import instrument_model\n",
    "\n",
    "from fmrai.fmrai import Fmrai\n",
    "import inspect\n",
    "\n",
    "with fmrai.fmrai() as f:\n",
    "    f: Fmrai\n",
    "    \n",
    "    m = instrument_model(model)\n",
    "    # print(model.encoder.layer[0].intermediate.intermediate_act_fn)\n",
    "    \n",
    "    with f.track() as tracker:\n",
    "        result = m(**tokenizer('hello', return_tensors='pt'))\n",
    "        g = tracker.build_graph(result.pooler_output)\n",
    "        \n",
    "    print(g)"
   ],
   "metadata": {
    "collapsed": false,
    "ExecuteTime": {
     "end_time": "2023-10-06T14:03:59.865601754Z",
     "start_time": "2023-10-06T14:03:59.807533613Z"
    }
   },
   "id": "3fc4f38afcad2c2c"
  },
  {
   "cell_type": "code",
   "execution_count": null,
   "outputs": [],
   "source": [],
   "metadata": {
    "collapsed": false
   },
   "id": "cfb64698f3943d22"
  }
 ],
 "metadata": {
  "kernelspec": {
   "display_name": "Python 3",
   "language": "python",
   "name": "python3"
  },
  "language_info": {
   "codemirror_mode": {
    "name": "ipython",
    "version": 2
   },
   "file_extension": ".py",
   "mimetype": "text/x-python",
   "name": "python",
   "nbconvert_exporter": "python",
   "pygments_lexer": "ipython2",
   "version": "2.7.6"
  }
 },
 "nbformat": 4,
 "nbformat_minor": 5
}
