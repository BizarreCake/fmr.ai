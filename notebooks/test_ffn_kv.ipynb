{
 "cells": [
  {
   "cell_type": "code",
   "execution_count": 1,
   "id": "initial_id",
   "metadata": {
    "collapsed": true,
    "ExecuteTime": {
     "end_time": "2023-10-09T12:08:40.092152038Z",
     "start_time": "2023-10-09T12:08:38.984366886Z"
    }
   },
   "outputs": [],
   "source": [
    "import fmrai"
   ]
  },
  {
   "cell_type": "markdown",
   "source": [
    "# Load dataset"
   ],
   "metadata": {
    "collapsed": false
   },
   "id": "8d8f3ae46562c62f"
  },
  {
   "cell_type": "code",
   "execution_count": 2,
   "outputs": [],
   "source": [
    "from datasets import load_dataset\n",
    "\n",
    "dataset = load_dataset('bookcorpus', streaming=True)"
   ],
   "metadata": {
    "collapsed": false,
    "ExecuteTime": {
     "end_time": "2023-10-09T12:08:45.351726551Z",
     "start_time": "2023-10-09T12:08:42.262693900Z"
    }
   },
   "id": "9546b3974392c728"
  },
  {
   "cell_type": "code",
   "execution_count": 3,
   "outputs": [
    {
     "data": {
      "text/plain": "{'text': 'usually , he would be tearing around the living room , playing with his toys .'}"
     },
     "execution_count": 3,
     "metadata": {},
     "output_type": "execute_result"
    }
   ],
   "source": [
    "next(iter(dataset['train']))"
   ],
   "metadata": {
    "collapsed": false,
    "ExecuteTime": {
     "end_time": "2023-10-09T12:08:47.508850371Z",
     "start_time": "2023-10-09T12:08:45.357608046Z"
    }
   },
   "id": "d61af3bfba0fa332"
  },
  {
   "cell_type": "markdown",
   "source": [
    "# Create model"
   ],
   "metadata": {
    "collapsed": false
   },
   "id": "2a6c7d02a84eea4f"
  },
  {
   "cell_type": "code",
   "execution_count": 4,
   "outputs": [],
   "source": [
    "from transformers import AutoModel, AutoTokenizer\n",
    "model = AutoModel.from_pretrained('bert-base-uncased')\n",
    "tokenizer = AutoTokenizer.from_pretrained('bert-base-uncased')"
   ],
   "metadata": {
    "collapsed": false,
    "ExecuteTime": {
     "end_time": "2023-10-09T12:08:48.816093912Z",
     "start_time": "2023-10-09T12:08:47.508236712Z"
    }
   },
   "id": "8c2e4860e32f1335"
  },
  {
   "cell_type": "code",
   "execution_count": 9,
   "outputs": [],
   "source": [
    "import importlib\n",
    "\n",
    "import fmrai.instrument\n",
    "import fmrai.tracker\n",
    "importlib.reload(fmrai.instrument)\n",
    "importlib.reload(fmrai.tracker)\n",
    "from fmrai.instrument import instrument_model\n",
    "\n",
    "from fmrai.fmrai import Fmrai\n",
    "import inspect\n",
    "\n",
    "with fmrai.fmrai() as f:\n",
    "    f: Fmrai\n",
    "    \n",
    "    m = instrument_model(model)\n",
    "    # print(model.encoder.layer[0].intermediate.intermediate_act_fn)\n",
    "    \n",
    "    with f.track() as tracker:\n",
    "        inputs = tokenizer('hello', return_tensors='pt')\n",
    "        result = m(**inputs)\n",
    "        # print('result', type(result.pooler_output))\n",
    "        g = tracker.build_graph(result.pooler_output)\n",
    "        \n",
    "    g = g.make_nice()\n",
    "    g.save_dot('pastenino.dot')"
   ],
   "metadata": {
    "collapsed": false,
    "ExecuteTime": {
     "end_time": "2023-10-09T12:18:05.673722569Z",
     "start_time": "2023-10-09T12:18:05.011789479Z"
    }
   },
   "id": "3fc4f38afcad2c2c"
  },
  {
   "cell_type": "code",
   "execution_count": 14,
   "outputs": [
    {
     "name": "stdout",
     "output_type": "stream",
     "text": [
      "<class 'torch.Tensor'>\n"
     ]
    }
   ],
   "source": [
    "import torch\n",
    "\n",
    "print(type(torch.randn((1, 2))))"
   ],
   "metadata": {
    "collapsed": false,
    "ExecuteTime": {
     "end_time": "2023-10-09T12:28:32.552690953Z",
     "start_time": "2023-10-09T12:28:32.543252798Z"
    }
   },
   "id": "cfb64698f3943d22"
  },
  {
   "cell_type": "code",
   "execution_count": null,
   "outputs": [],
   "source": [],
   "metadata": {
    "collapsed": false
   },
   "id": "b96fe7ea5194b25"
  }
 ],
 "metadata": {
  "kernelspec": {
   "display_name": "Python 3",
   "language": "python",
   "name": "python3"
  },
  "language_info": {
   "codemirror_mode": {
    "name": "ipython",
    "version": 2
   },
   "file_extension": ".py",
   "mimetype": "text/x-python",
   "name": "python",
   "nbconvert_exporter": "python",
   "pygments_lexer": "ipython2",
   "version": "2.7.6"
  }
 },
 "nbformat": 4,
 "nbformat_minor": 5
}
