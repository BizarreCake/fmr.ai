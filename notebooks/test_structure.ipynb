{
 "cells": [
  {
   "cell_type": "code",
   "execution_count": 1,
   "id": "initial_id",
   "metadata": {
    "collapsed": true,
    "ExecuteTime": {
     "end_time": "2023-11-17T19:26:14.303201732Z",
     "start_time": "2023-11-17T19:26:12.193503480Z"
    }
   },
   "outputs": [],
   "source": [
    "import fmrai\n",
    "import torch"
   ]
  },
  {
   "cell_type": "code",
   "execution_count": 3,
   "outputs": [],
   "source": [
    "from transformers import AutoModel, AutoTokenizer, AutoModelForCausalLM\n",
    "\n",
    "# model = AutoModel.from_pretrained('bert-base-uncased')\n",
    "# tokenizer = AutoTokenizer.from_pretrained('bert-base-uncased')\n",
    "\n",
    "model = AutoModel.from_pretrained('openai-gpt')\n",
    "tokenizer = AutoTokenizer.from_pretrained('openai-gpt')\n",
    "tokenizer.pad_token = ' '\n",
    "\n",
    "# model = AutoModelForCausalLM.from_pretrained('meta-llama/Llama-2-7b-hf', load_in_4bit=True)\n",
    "# tokenizer = AutoTokenizer.from_pretrained('meta-llama/Llama-2-7b-hf')"
   ],
   "metadata": {
    "collapsed": false,
    "ExecuteTime": {
     "end_time": "2023-11-17T19:26:26.858435315Z",
     "start_time": "2023-11-17T19:26:24.814915554Z"
    }
   },
   "id": "413cd605849439ca"
  },
  {
   "cell_type": "code",
   "execution_count": 4,
   "outputs": [],
   "source": [
    "from fmrai.instrument import instrument_model\n",
    "from fmrai.fmrai import Fmrai\n",
    "\n",
    "with fmrai.fmrai() as fmr:\n",
    "    m = instrument_model(model)\n",
    "    \n",
    "    fmr: Fmrai\n",
    "    with fmr.track() as tracker:\n",
    "        with torch.no_grad():\n",
    "            m(**tokenizer(\"Hello World\", return_tensors=\"pt\"))\n",
    "            g = tracker.build_graph()\n",
    "    \n",
    "    g.save_dot('pasten.dot')"
   ],
   "metadata": {
    "collapsed": false,
    "ExecuteTime": {
     "end_time": "2023-11-17T19:26:42.061502127Z",
     "start_time": "2023-11-17T19:26:41.011548471Z"
    }
   },
   "id": "d60f35702bb63e2d"
  },
  {
   "cell_type": "code",
   "execution_count": 1,
   "outputs": [
    {
     "ename": "NameError",
     "evalue": "name 'g' is not defined",
     "output_type": "error",
     "traceback": [
      "\u001B[0;31m---------------------------------------------------------------------------\u001B[0m",
      "\u001B[0;31mNameError\u001B[0m                                 Traceback (most recent call last)",
      "Cell \u001B[0;32mIn[1], line 3\u001B[0m\n\u001B[1;32m      1\u001B[0m \u001B[38;5;28;01mfrom\u001B[39;00m \u001B[38;5;21;01mfmrai\u001B[39;00m\u001B[38;5;21;01m.\u001B[39;00m\u001B[38;5;21;01manalysis\u001B[39;00m\u001B[38;5;21;01m.\u001B[39;00m\u001B[38;5;21;01mstructure\u001B[39;00m \u001B[38;5;28;01mimport\u001B[39;00m find_new_gelu\n\u001B[0;32m----> 3\u001B[0m gelus \u001B[38;5;241m=\u001B[39m \u001B[38;5;28mlist\u001B[39m(find_new_gelu(\u001B[43mg\u001B[49m))\n\u001B[1;32m      4\u001B[0m gelus\n",
      "\u001B[0;31mNameError\u001B[0m: name 'g' is not defined"
     ]
    }
   ],
   "source": [
    "from fmrai.analysis.structure import find_new_gelu\n",
    "\n",
    "gelus = list(find_new_gelu(g))\n",
    "gelus"
   ],
   "metadata": {
    "collapsed": false,
    "ExecuteTime": {
     "end_time": "2023-11-04T16:58:18.044610121Z",
     "start_time": "2023-11-04T16:58:15.621755048Z"
    }
   },
   "id": "4265c77f78042f43"
  },
  {
   "cell_type": "code",
   "execution_count": 5,
   "outputs": [],
   "source": [
    "import importlib"
   ],
   "metadata": {
    "collapsed": false,
    "ExecuteTime": {
     "end_time": "2023-11-05T06:18:15.440906789Z",
     "start_time": "2023-11-05T06:18:15.428467536Z"
    }
   },
   "id": "87be654252d14388"
  },
  {
   "cell_type": "code",
   "execution_count": 6,
   "outputs": [
    {
     "name": "stdout",
     "output_type": "stream",
     "text": [
      "73 linears\n",
      "12 activations\n",
      "linear_top_and_act 12\n",
      "act_and_linear_bottom 12\n"
     ]
    },
    {
     "data": {
      "text/plain": "[TransformerFFNInstance(linear_top=TensorStubNode(tensor_id=#56, tensor_size=torch.Size([1, 4, 3072])), act=TensorStubNode(tensor_id=#57, tensor_size=torch.Size([1, 4, 3072])), linear_bottom=TensorStubNode(tensor_id=#60, tensor_size=torch.Size([1, 4, 768]))),\n TransformerFFNInstance(linear_top=TensorStubNode(tensor_id=#101, tensor_size=torch.Size([1, 4, 3072])), act=TensorStubNode(tensor_id=#102, tensor_size=torch.Size([1, 4, 3072])), linear_bottom=TensorStubNode(tensor_id=#105, tensor_size=torch.Size([1, 4, 768]))),\n TransformerFFNInstance(linear_top=TensorStubNode(tensor_id=#146, tensor_size=torch.Size([1, 4, 3072])), act=TensorStubNode(tensor_id=#147, tensor_size=torch.Size([1, 4, 3072])), linear_bottom=TensorStubNode(tensor_id=#150, tensor_size=torch.Size([1, 4, 768]))),\n TransformerFFNInstance(linear_top=TensorStubNode(tensor_id=#191, tensor_size=torch.Size([1, 4, 3072])), act=TensorStubNode(tensor_id=#192, tensor_size=torch.Size([1, 4, 3072])), linear_bottom=TensorStubNode(tensor_id=#195, tensor_size=torch.Size([1, 4, 768]))),\n TransformerFFNInstance(linear_top=TensorStubNode(tensor_id=#236, tensor_size=torch.Size([1, 4, 3072])), act=TensorStubNode(tensor_id=#237, tensor_size=torch.Size([1, 4, 3072])), linear_bottom=TensorStubNode(tensor_id=#240, tensor_size=torch.Size([1, 4, 768]))),\n TransformerFFNInstance(linear_top=TensorStubNode(tensor_id=#281, tensor_size=torch.Size([1, 4, 3072])), act=TensorStubNode(tensor_id=#282, tensor_size=torch.Size([1, 4, 3072])), linear_bottom=TensorStubNode(tensor_id=#285, tensor_size=torch.Size([1, 4, 768]))),\n TransformerFFNInstance(linear_top=TensorStubNode(tensor_id=#326, tensor_size=torch.Size([1, 4, 3072])), act=TensorStubNode(tensor_id=#327, tensor_size=torch.Size([1, 4, 3072])), linear_bottom=TensorStubNode(tensor_id=#330, tensor_size=torch.Size([1, 4, 768]))),\n TransformerFFNInstance(linear_top=TensorStubNode(tensor_id=#371, tensor_size=torch.Size([1, 4, 3072])), act=TensorStubNode(tensor_id=#372, tensor_size=torch.Size([1, 4, 3072])), linear_bottom=TensorStubNode(tensor_id=#375, tensor_size=torch.Size([1, 4, 768]))),\n TransformerFFNInstance(linear_top=TensorStubNode(tensor_id=#416, tensor_size=torch.Size([1, 4, 3072])), act=TensorStubNode(tensor_id=#417, tensor_size=torch.Size([1, 4, 3072])), linear_bottom=TensorStubNode(tensor_id=#420, tensor_size=torch.Size([1, 4, 768]))),\n TransformerFFNInstance(linear_top=TensorStubNode(tensor_id=#461, tensor_size=torch.Size([1, 4, 3072])), act=TensorStubNode(tensor_id=#462, tensor_size=torch.Size([1, 4, 3072])), linear_bottom=TensorStubNode(tensor_id=#465, tensor_size=torch.Size([1, 4, 768]))),\n TransformerFFNInstance(linear_top=TensorStubNode(tensor_id=#506, tensor_size=torch.Size([1, 4, 3072])), act=TensorStubNode(tensor_id=#507, tensor_size=torch.Size([1, 4, 3072])), linear_bottom=TensorStubNode(tensor_id=#510, tensor_size=torch.Size([1, 4, 768]))),\n TransformerFFNInstance(linear_top=TensorStubNode(tensor_id=#551, tensor_size=torch.Size([1, 4, 3072])), act=TensorStubNode(tensor_id=#552, tensor_size=torch.Size([1, 4, 3072])), linear_bottom=TensorStubNode(tensor_id=#555, tensor_size=torch.Size([1, 4, 768])))]"
     },
     "execution_count": 6,
     "metadata": {},
     "output_type": "execute_result"
    }
   ],
   "source": [
    "import fmrai.analysis.structure\n",
    "importlib.reload(fmrai.analysis.structure)\n",
    "from fmrai.analysis.structure import FindTransformerFFN\n",
    "\n",
    "list(FindTransformerFFN(g.g).search())"
   ],
   "metadata": {
    "collapsed": false,
    "ExecuteTime": {
     "end_time": "2023-11-05T06:18:19.036674782Z",
     "start_time": "2023-11-05T06:18:15.838880234Z"
    }
   },
   "id": "cf05518ed8755ce4"
  },
  {
   "cell_type": "code",
   "execution_count": 10,
   "outputs": [],
   "source": [],
   "metadata": {
    "collapsed": false,
    "ExecuteTime": {
     "end_time": "2023-11-04T18:03:16.481737301Z",
     "start_time": "2023-11-04T18:03:16.473524028Z"
    }
   },
   "id": "8eba909f3bfd375d"
  },
  {
   "cell_type": "code",
   "execution_count": null,
   "outputs": [],
   "source": [],
   "metadata": {
    "collapsed": false
   },
   "id": "6f65dc33554b8291"
  }
 ],
 "metadata": {
  "kernelspec": {
   "display_name": "Python 3",
   "language": "python",
   "name": "python3"
  },
  "language_info": {
   "codemirror_mode": {
    "name": "ipython",
    "version": 2
   },
   "file_extension": ".py",
   "mimetype": "text/x-python",
   "name": "python",
   "nbconvert_exporter": "python",
   "pygments_lexer": "ipython2",
   "version": "2.7.6"
  }
 },
 "nbformat": 4,
 "nbformat_minor": 5
}
